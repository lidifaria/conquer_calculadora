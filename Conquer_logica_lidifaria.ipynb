{
  "nbformat": 4,
  "nbformat_minor": 0,
  "metadata": {
    "colab": {
      "name": "Conquer_logica_lidifaria.ipynb",
      "provenance": []
    },
    "kernelspec": {
      "name": "python3",
      "display_name": "Python 3"
    },
    "language_info": {
      "name": "python"
    }
  },
  "cells": [
    {
      "cell_type": "code",
      "execution_count": 12,
      "metadata": {
        "colab": {
          "base_uri": "https://localhost:8080/"
        },
        "id": "B2TmAQz5Tt3z",
        "outputId": "95612e88-13c6-45e6-ebef-0f057f98dc4b"
      },
      "outputs": [
        {
          "output_type": "stream",
          "name": "stdout",
          "text": [
            "Obrigada pela preferência! Aqui está sua conta:\n",
            "Itens pedidos: 4\n",
            "Quantidade de pessoas: 4\n",
            "valor total da conta: 95\n",
            "O valor por pessoa é: 23.75\n"
          ]
        }
      ],
      "source": [
        "# EXERCICIO: CALCULE A CONTA DO RESTAURANTE \n",
        "\n",
        "import math\n",
        "\n",
        "math.sqrt(4)\n",
        "\n",
        "#HORA DE CALCULAR OS DADOS DA CONTA\n",
        "\n",
        "pedidos = [\n",
        "  {\"prato\": \"PF de frango\", \"valor\": 25},\n",
        "  {\"prato\": \"Macarrão a bolonhesa\", \"valor\": 22},\n",
        "  {\"prato\": \"PF de bife\", \"valor\": 28},\n",
        "  {\"prato\": \"Batata frita\", \"valor\": 20}\n",
        "]\n",
        "\n",
        "pessoas = [\"João\", \"Maria\", \"Pedro\", \"Silvana\"]\n",
        "\n",
        "valor = 0\n",
        "\n",
        "for pedido in pedidos:\n",
        "  valor = valor + pedido [\"valor\"]\n",
        "\n",
        "quantidade = len (pessoas)\n",
        "\n",
        "def calcular_valor_pessoa (quantidade_pessoas, valor_total):\n",
        "  return valor_total / quantidade_pessoas\n",
        "\n",
        "valor_por_pessoa = calcular_valor_pessoa (quantidade, valor)\n",
        "\n",
        "# RESULTADO\n",
        "print (\"Obrigada pela preferência! Aqui está sua conta:\")\n",
        "print (\"Itens pedidos:\", len (pedidos))\n",
        "print (\"Quantidade de pessoas:\", len (pessoas))\n",
        "print (\"valor total da conta:\", (valor))\n",
        "print (\"O valor por pessoa é:\", valor_por_pessoa)\n",
        "\n"
      ]
    }
  ]
}